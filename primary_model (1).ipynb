{
 "cells": [
  {
   "cell_type": "code",
   "execution_count": 3,
   "id": "51a0c566",
   "metadata": {},
   "outputs": [],
   "source": [
    "import timm\n",
    "from timm.data import Mixup\n",
    "from timm.loss import SoftTargetCrossEntropy\n",
    "import torch\n",
    "import torch.nn as nn\n",
    "from torch.optim import Adam\n",
    "from torch.utils.data import DataLoader\n",
    "from torchvision import datasets, transforms\n",
    "from torchvision.datasets import ImageFolder\n",
    "from tqdm import tqdm\n",
    "import os"
   ]
  },
  {
   "cell_type": "code",
   "execution_count": 4,
   "id": "b33bd358",
   "metadata": {},
   "outputs": [
    {
     "name": "stdout",
     "output_type": "stream",
     "text": [
      "c:\\Users\\micha\\Downloads\\Primarymodel\\.venv\\Scripts\\python.exe\n",
      "CUDA: True CUDA ver: 12.1 Torch: 2.5.1+cu121\n"
     ]
    }
   ],
   "source": [
    "import sys, torch\n",
    "print(sys.executable)\n",
    "print(\"CUDA:\", torch.cuda.is_available(), \"CUDA ver:\", torch.version.cuda, \"Torch:\", torch.__version__)\n"
   ]
  },
  {
   "cell_type": "code",
   "execution_count": 5,
   "id": "b7813832",
   "metadata": {},
   "outputs": [],
   "source": [
    "import matplotlib.pyplot as plt\n",
    "import numpy as np\n",
    "\n",
    "# Training Curve\n",
    "def plot_training_curve(path):\n",
    "    \"\"\" Plots the training curve for a model run, given the csv files\n",
    "    containing the train/validation error/loss.\n",
    "\n",
    "    Args:\n",
    "        path: The base path of the csv files produced during training\n",
    "    \"\"\"\n",
    "    train_loss = np.loadtxt(\"{}_train_loss.csv\".format(path))\n",
    "    val_loss = np.loadtxt(\"{}_val_loss.csv\".format(path))\n",
    "    plt.title(\"Train vs Validation Error\")\n",
    "    n = len(train_loss) # number of epochs\n",
    "    plt.title(\"Train vs Validation Loss\")\n",
    "    plt.plot(range(1,n+1), train_loss, label=\"Train\")\n",
    "    plt.plot(range(1,n+1), val_loss, label=\"Validation\")\n",
    "    plt.xlabel(\"Epoch\")\n",
    "    plt.ylabel(\"Loss\")\n",
    "    plt.legend(loc='best')\n",
    "    plt.show()\n",
    "\n",
    "def get_model_name(name, batch_size, learning_rate, epoch):\n",
    "        \"\"\" Generate a name for the model consisting of all the hyperparameter values\n",
    "\n",
    "        Args:\n",
    "            config: Configuration object containing the hyperparameters\n",
    "        Returns:\n",
    "            path: A string with the hyperparameter name and value concatenated\n",
    "        \"\"\"\n",
    "        path = \"model_{0}_bs{1}_lr{2}_epoch{3}\".format(name,\n",
    "                                                    batch_size,\n",
    "                                                    learning_rate,\n",
    "                                                    epoch)\n",
    "        return path"
   ]
  },
  {
   "cell_type": "code",
   "execution_count": 6,
   "id": "9f07259c",
   "metadata": {},
   "outputs": [
    {
     "name": "stdout",
     "output_type": "stream",
     "text": [
      "Using device: cuda\n"
     ]
    },
    {
     "name": "stderr",
     "output_type": "stream",
     "text": [
      "C:\\Users\\micha\\AppData\\Local\\Temp\\ipykernel_57480\\1532802620.py:9: FutureWarning: `torch.cuda.amp.GradScaler(args...)` is deprecated. Please use `torch.amp.GradScaler('cuda', args...)` instead.\n",
      "  scaler = torch.cuda.amp.GradScaler(enabled=use_amp)\n"
     ]
    }
   ],
   "source": [
    "#Ensuring CUDA is being used for training\n",
    "device = torch.device(\"cuda\" if torch.cuda.is_available() else \"cpu\")\n",
    "print(\"Using device:\", device)\n",
    "\n",
    "if device.type == \"cuda\":\n",
    "    torch.backends.cudnn.benchmark = True\n",
    "    torch.set_float32_matmul_precision(\"high\")  \n",
    "use_amp = (device.type == \"cuda\")\n",
    "scaler = torch.cuda.amp.GradScaler(enabled=use_amp)\n"
   ]
  },
  {
   "cell_type": "code",
   "execution_count": 7,
   "id": "a53f94dc",
   "metadata": {},
   "outputs": [],
   "source": [
    "IMSIZE = 260\n",
    "mean = (0.485, 0.456, 0.406)\n",
    "std  = (0.229, 0.224, 0.225)\n",
    "\n",
    "train_tfms = transforms.Compose([\n",
    "    transforms.RandomResizedCrop(IMSIZE, scale=(0.8, 1.0)),\n",
    "    transforms.RandomHorizontalFlip(),\n",
    "    transforms.ColorJitter(0.1, 0.1, 0.1, 0.02),\n",
    "    transforms.RandomRotation(degrees=10),\n",
    "    transforms.ToTensor(),\n",
    "    transforms.Normalize(mean, std)\n",
    "])\n",
    "\n",
    "val_tfms = transforms.Compose([\n",
    "    transforms.Resize(int(IMSIZE*1.1)),\n",
    "    transforms.CenterCrop(IMSIZE),\n",
    "    transforms.ToTensor(),\n",
    "    transforms.Normalize(mean, std)\n",
    "])"
   ]
  },
  {
   "cell_type": "code",
   "execution_count": 13,
   "id": "ca679147",
   "metadata": {},
   "outputs": [
    {
     "name": "stdout",
     "output_type": "stream",
     "text": [
      "out_features: 5\n"
     ]
    }
   ],
   "source": [
    "\n",
    "num_countries = 5\n",
    "\n",
    "model = timm.create_model(\n",
    "    'efficientnet_b5',\n",
    "    pretrained=True,\n",
    "    num_classes=num_countries,   # 5 countries\n",
    "    drop_rate=0.3,               # no more overfit\n",
    "    drop_path_rate=0.2           # stochastic depth\n",
    ")\n",
    "\n",
    "# sanity check\n",
    "print(\"out_features:\", model.get_classifier().out_features) \n",
    "\n",
    "if device.type == \"cuda\":\n",
    "    model = model.to(device, memory_format=torch.channels_last)\n",
    "else:\n",
    "    model = model.to(device)\n"
   ]
  },
  {
   "cell_type": "code",
   "execution_count": 11,
   "id": "f091fb6a",
   "metadata": {},
   "outputs": [],
   "source": [
    "import math, gc, time\n",
    "import torch, torch.nn as nn, torch.nn.functional as F\n",
    "from torch.utils.data import DataLoader\n",
    "from torchvision.datasets import ImageFolder\n",
    "from timm.data import Mixup\n",
    "from timm.loss import SoftTargetCrossEntropy\n",
    "from timm.utils import ModelEmaV2\n",
    "from tqdm import tqdm\n",
    "\n",
    "def train_val(\n",
    "    model,\n",
    "    lr,\n",
    "    batch_size,\n",
    "    num_epochs,\n",
    "    return_history: bool = False,\n",
    "    use_ema: bool = True,\n",
    "    use_tta: bool = False,\n",
    "    use_amp: bool = True,\n",
    "    num_workers: int = 8,\n",
    "):\n",
    "    \"\"\"Assumes `train_tfms`, `val_tfms`, and `num_countries` exist.\"\"\"\n",
    "    # --- Data ---\n",
    "    train_dataset = ImageFolder(root='data/train', transform=train_tfms)\n",
    "    val_dataset   = ImageFolder(root='data/val',   transform=val_tfms)\n",
    "\n",
    "    # Ensure identical class order for train/val\n",
    "    name_to_idx = {name: i for i, name in enumerate(train_dataset.classes)}\n",
    "    assert set(train_dataset.classes) == set(val_dataset.classes), \\\n",
    "        f\"Class mismatch!\\nTrain-only: {set(train_dataset.classes)-set(val_dataset.classes)}\\nVal-only: {set(val_dataset.classes)-set(train_dataset.classes)}\"\n",
    "    val_dataset.samples = [(p, name_to_idx[val_dataset.classes[y]]) for (p, y) in val_dataset.samples]\n",
    "    val_dataset.targets = [t for _, t in val_dataset.samples]\n",
    "    val_dataset.classes = train_dataset.classes\n",
    "    val_dataset.class_to_idx = name_to_idx\n",
    "\n",
    "    is_cuda = torch.cuda.is_available()\n",
    "    pin = is_cuda\n",
    "    train_loader = DataLoader(\n",
    "        train_dataset, batch_size=batch_size, shuffle=True,\n",
    "        num_workers=num_workers, pin_memory=pin,\n",
    "        persistent_workers=(num_workers > 0), prefetch_factor=2\n",
    "    )\n",
    "    val_loader = DataLoader(\n",
    "        val_dataset, batch_size=batch_size, shuffle=False,\n",
    "        num_workers=num_workers, pin_memory=pin,\n",
    "        persistent_workers=(num_workers > 0), prefetch_factor=2\n",
    "    )\n",
    "\n",
    "    # --- Losses ---\n",
    "    soft_criterion = SoftTargetCrossEntropy()\n",
    "    hard_criterion = nn.CrossEntropyLoss()\n",
    "\n",
    "    # Milder mixup; skip epoch 0 to avoid depressed early accuracy\n",
    "    def mixup_for_epoch(e):\n",
    "        if e < 1:\n",
    "            return None\n",
    "        elif e < 0.60 * num_epochs:\n",
    "            return Mixup(0.1, 0.8, prob=0.7, num_classes=num_countries)\n",
    "        elif e < 0.85 * num_epochs:\n",
    "            return Mixup(0.1, 0.4, prob=0.5, num_classes=num_countries)\n",
    "        else:\n",
    "            return None\n",
    "\n",
    "    # --- Optimizer & Scheduler ---\n",
    "    # Lighter weight decay to help early fitting\n",
    "    optimizer = torch.optim.AdamW(\n",
    "        (p for p in model.parameters() if p.requires_grad),\n",
    "        lr=lr, weight_decay=1e-4\n",
    "    )\n",
    "    steps_per_epoch = max(len(train_loader), 1)\n",
    "    warmup_epochs = 1  # shorter warmup for faster early progress\n",
    "    warmup_steps  = warmup_epochs * steps_per_epoch\n",
    "    total_steps   = num_epochs * steps_per_epoch\n",
    "\n",
    "    def lr_lambda(step):\n",
    "        if step < warmup_steps:\n",
    "            return (step + 1) / max(1, warmup_steps)\n",
    "        t = (step - warmup_steps) / max(1, total_steps - warmup_steps)\n",
    "        return 0.5 * (1.0 + math.cos(math.pi * t))  # cosine\n",
    "\n",
    "    scheduler = torch.optim.lr_scheduler.LambdaLR(optimizer, lr_lambda)\n",
    "\n",
    "    # --- AMP / EMA ---\n",
    "    scaler = torch.cuda.amp.GradScaler(enabled=use_amp and is_cuda)\n",
    "    ema = ModelEmaV2(model, decay=0.999) if (use_ema and is_cuda) else None\n",
    "\n",
    "    # Move model to the right device and set channels_last once\n",
    "    device = next(model.parameters()).device\n",
    "    if is_cuda and device.type != \"cuda\":\n",
    "        device = torch.device(\"cuda\")\n",
    "        model.to(device)\n",
    "    if device.type == \"cuda\":\n",
    "        model.to(memory_format=torch.channels_last)\n",
    "\n",
    "    history = {'train_loss': [], 'train_acc': [], 'val_loss': [], 'val_acc': []}\n",
    "    best_acc = 0.0\n",
    "\n",
    "    for epoch in range(num_epochs):\n",
    "        model.train()\n",
    "        running_loss, seen, train_correct = 0.0, 0, 0\n",
    "        t0 = time.time()\n",
    "        mixup_fn = mixup_for_epoch(epoch)\n",
    "\n",
    "        for images, labels in tqdm(train_loader, desc=f\"Epoch {epoch+1}/{num_epochs}\", leave=False):\n",
    "            hard_labels = labels.to(device, non_blocking=True)\n",
    "            images = images.to(device, non_blocking=True)\n",
    "            labels = labels.to(device, non_blocking=True)\n",
    "            if device.type == \"cuda\":\n",
    "                images = images.to(memory_format=torch.channels_last)\n",
    "\n",
    "            if mixup_fn is not None:\n",
    "                images, labels = mixup_fn(images, labels)     # labels are soft\n",
    "                target_for_loss = labels\n",
    "                criterion = soft_criterion\n",
    "                metric_targets = labels.argmax(dim=1)         # hard target for accuracy metric\n",
    "            else:\n",
    "                target_for_loss = hard_labels\n",
    "                criterion = hard_criterion\n",
    "                metric_targets = hard_labels\n",
    "\n",
    "            optimizer.zero_grad(set_to_none=True)\n",
    "            with torch.cuda.amp.autocast(enabled=use_amp and is_cuda):\n",
    "                outputs = model(images)\n",
    "                loss = criterion(outputs, target_for_loss)\n",
    "\n",
    "            scaler.scale(loss).backward()\n",
    "            scaler.step(optimizer)\n",
    "            scaler.update()\n",
    "            if ema: ema.update(model)\n",
    "            scheduler.step()\n",
    "\n",
    "            bs = images.size(0)\n",
    "            running_loss += loss.item() * bs\n",
    "            seen += bs\n",
    "            train_correct += (outputs.detach().argmax(1) == metric_targets).sum().item()\n",
    "\n",
    "            del images, labels, outputs, loss, hard_labels, metric_targets\n",
    "\n",
    "        train_loss = running_loss / max(seen, 1)\n",
    "        train_acc_pct = 100.0 * train_correct / max(seen, 1)\n",
    "\n",
    "        # --- Validation ---\n",
    "        eval_model = ema.module if ema is not None else model\n",
    "        eval_model.eval()\n",
    "        vloss, vcorrect, vtotal = 0.0, 0, 0\n",
    "        with torch.no_grad(), torch.cuda.amp.autocast(enabled=use_amp and is_cuda):\n",
    "            for images, labels in val_loader:\n",
    "                images = images.to(device, non_blocking=True)\n",
    "                labels = labels.to(device, non_blocking=True)\n",
    "                if device.type == \"cuda\":\n",
    "                    images = images.to(memory_format=torch.channels_last)\n",
    "                out = eval_model(images)\n",
    "                if use_tta:\n",
    "                    out = (out + eval_model(torch.flip(images, dims=[3]))) / 2\n",
    "                vloss += F.cross_entropy(out, labels).item() * images.size(0)\n",
    "                vcorrect += (out.argmax(1) == labels).sum().item()\n",
    "                vtotal += labels.size(0)\n",
    "                del images, labels, out\n",
    "\n",
    "        val_loss = vloss / max(vtotal, 1)\n",
    "        val_acc  = vcorrect / max(vtotal, 1)\n",
    "        val_acc_pct = 100.0 * val_acc\n",
    "\n",
    "        dt = time.time() - t0\n",
    "        print(f\"Epoch {epoch+1}/{num_epochs}: {dt:.1f}s | \"\n",
    "              f\"train {train_loss:.4f} | train_acc {train_acc_pct:.1f}% | \"\n",
    "              f\"val {val_loss:.4f} | val_acc {val_acc_pct:.1f}% | \"\n",
    "              f\"lr {scheduler.get_last_lr()[0]:.2e}\")\n",
    "\n",
    "        history['train_loss'].append(train_loss)\n",
    "        history['train_acc'].append(train_acc_pct)\n",
    "        history['val_loss'].append(val_loss)\n",
    "        history['val_acc'].append(val_acc_pct)\n",
    "\n",
    "        if val_acc > best_acc:\n",
    "            best_acc = val_acc\n",
    "            torch.save((ema.module if ema is not None else model).state_dict(), \"best_b5.pt\")\n",
    "            print(\"  ↳ saved new best\")\n",
    "\n",
    "        gc.collect()\n",
    "        if is_cuda:\n",
    "            torch.cuda.empty_cache()\n",
    "            torch.cuda.reset_peak_memory_stats()\n",
    "\n",
    "    return (best_acc, history) if return_history else best_acc\n"
   ]
  },
  {
   "cell_type": "code",
   "execution_count": null,
   "id": "a9b40f3e",
   "metadata": {},
   "outputs": [
    {
     "name": "stderr",
     "output_type": "stream",
     "text": [
      "C:\\Users\\micha\\AppData\\Local\\Temp\\ipykernel_57480\\962607772.py:83: FutureWarning: `torch.cuda.amp.GradScaler(args...)` is deprecated. Please use `torch.amp.GradScaler('cuda', args...)` instead.\n",
      "  scaler = torch.cuda.amp.GradScaler(enabled=use_amp and is_cuda)\n",
      "Epoch 1/20:   0%|          | 0/138 [00:00<?, ?it/s]C:\\Users\\micha\\AppData\\Local\\Temp\\ipykernel_57480\\962607772.py:121: FutureWarning: `torch.cuda.amp.autocast(args...)` is deprecated. Please use `torch.amp.autocast('cuda', args...)` instead.\n",
      "  with torch.cuda.amp.autocast(enabled=use_amp and is_cuda):\n",
      "C:\\Users\\micha\\AppData\\Local\\Temp\\ipykernel_57480\\962607772.py:145: FutureWarning: `torch.cuda.amp.autocast(args...)` is deprecated. Please use `torch.amp.autocast('cuda', args...)` instead.\n",
      "  with torch.no_grad(), torch.cuda.amp.autocast(enabled=use_amp and is_cuda):\n"
     ]
    },
    {
     "name": "stdout",
     "output_type": "stream",
     "text": [
      "Epoch 1/20: 170.4s | train 3.0354 | train_acc 38.5% | val 4.7772 | val_acc 23.2% | lr 3.00e-04\n",
      "  ↳ saved new best\n"
     ]
    },
    {
     "name": "stderr",
     "output_type": "stream",
     "text": [
      "                                                             \r"
     ]
    },
    {
     "name": "stdout",
     "output_type": "stream",
     "text": [
      "Epoch 2/20: 71.7s | train 1.5054 | train_acc 53.5% | val 3.3029 | val_acc 30.4% | lr 2.98e-04\n",
      "  ↳ saved new best\n"
     ]
    },
    {
     "name": "stderr",
     "output_type": "stream",
     "text": [
      "                                                             \r"
     ]
    },
    {
     "name": "stdout",
     "output_type": "stream",
     "text": [
      "Epoch 3/20: 71.4s | train 1.2428 | train_acc 62.5% | val 2.3554 | val_acc 34.0% | lr 2.92e-04\n",
      "  ↳ saved new best\n"
     ]
    },
    {
     "name": "stderr",
     "output_type": "stream",
     "text": [
      "                                                             \r"
     ]
    },
    {
     "name": "stdout",
     "output_type": "stream",
     "text": [
      "Epoch 4/20: 70.8s | train 1.1631 | train_acc 68.0% | val 1.7690 | val_acc 44.3% | lr 2.82e-04\n",
      "  ↳ saved new best\n"
     ]
    },
    {
     "name": "stderr",
     "output_type": "stream",
     "text": [
      "                                                             \r"
     ]
    },
    {
     "name": "stdout",
     "output_type": "stream",
     "text": [
      "Epoch 5/20: 71.1s | train 1.0004 | train_acc 75.0% | val 1.3321 | val_acc 55.1% | lr 2.68e-04\n",
      "  ↳ saved new best\n"
     ]
    },
    {
     "name": "stderr",
     "output_type": "stream",
     "text": [
      "                                                             \r"
     ]
    },
    {
     "name": "stdout",
     "output_type": "stream",
     "text": [
      "Epoch 6/20: 71.2s | train 0.9987 | train_acc 75.5% | val 1.0637 | val_acc 61.3% | lr 2.52e-04\n",
      "  ↳ saved new best\n"
     ]
    },
    {
     "name": "stderr",
     "output_type": "stream",
     "text": [
      "                                                             \r"
     ]
    },
    {
     "name": "stdout",
     "output_type": "stream",
     "text": [
      "Epoch 7/20: 70.9s | train 0.9113 | train_acc 80.5% | val 0.9198 | val_acc 66.6% | lr 2.32e-04\n",
      "  ↳ saved new best\n"
     ]
    },
    {
     "name": "stderr",
     "output_type": "stream",
     "text": [
      "                                                             \r"
     ]
    },
    {
     "name": "stdout",
     "output_type": "stream",
     "text": [
      "Epoch 8/20: 70.8s | train 0.8708 | train_acc 84.6% | val 0.8323 | val_acc 68.9% | lr 2.10e-04\n",
      "  ↳ saved new best\n"
     ]
    },
    {
     "name": "stderr",
     "output_type": "stream",
     "text": [
      "                                                             \r"
     ]
    },
    {
     "name": "stdout",
     "output_type": "stream",
     "text": [
      "Epoch 9/20: 70.7s | train 0.8293 | train_acc 85.9% | val 0.7767 | val_acc 70.6% | lr 1.87e-04\n",
      "  ↳ saved new best\n"
     ]
    },
    {
     "name": "stderr",
     "output_type": "stream",
     "text": [
      "                                                              \r"
     ]
    },
    {
     "name": "stdout",
     "output_type": "stream",
     "text": [
      "Epoch 10/20: 70.6s | train 0.8112 | train_acc 85.9% | val 0.7379 | val_acc 72.8% | lr 1.62e-04\n",
      "  ↳ saved new best\n"
     ]
    },
    {
     "name": "stderr",
     "output_type": "stream",
     "text": [
      "                                                              \r"
     ]
    },
    {
     "name": "stdout",
     "output_type": "stream",
     "text": [
      "Epoch 11/20: 70.5s | train 0.7736 | train_acc 88.5% | val 0.7128 | val_acc 73.6% | lr 1.38e-04\n",
      "  ↳ saved new best\n"
     ]
    },
    {
     "name": "stderr",
     "output_type": "stream",
     "text": [
      "                                                              \r"
     ]
    },
    {
     "name": "stdout",
     "output_type": "stream",
     "text": [
      "Epoch 12/20: 70.9s | train 0.7728 | train_acc 90.1% | val 0.6942 | val_acc 74.3% | lr 1.13e-04\n",
      "  ↳ saved new best\n"
     ]
    },
    {
     "name": "stderr",
     "output_type": "stream",
     "text": [
      "                                                              \r"
     ]
    },
    {
     "name": "stdout",
     "output_type": "stream",
     "text": [
      "Epoch 13/20: 71.5s | train 0.6621 | train_acc 93.5% | val 0.6810 | val_acc 75.3% | lr 8.97e-05\n",
      "  ↳ saved new best\n"
     ]
    },
    {
     "name": "stderr",
     "output_type": "stream",
     "text": [
      "                                                              \r"
     ]
    },
    {
     "name": "stdout",
     "output_type": "stream",
     "text": [
      "Epoch 14/20: 71.5s | train 0.6577 | train_acc 93.0% | val 0.6715 | val_acc 75.5% | lr 6.80e-05\n",
      "  ↳ saved new best\n"
     ]
    },
    {
     "name": "stderr",
     "output_type": "stream",
     "text": [
      "                                                              \r"
     ]
    },
    {
     "name": "stdout",
     "output_type": "stream",
     "text": [
      "Epoch 15/20: 71.3s | train 0.6281 | train_acc 95.1% | val 0.6645 | val_acc 76.2% | lr 4.84e-05\n",
      "  ↳ saved new best\n"
     ]
    },
    {
     "name": "stderr",
     "output_type": "stream",
     "text": [
      "                                                              \r"
     ]
    },
    {
     "name": "stdout",
     "output_type": "stream",
     "text": [
      "Epoch 16/20: 70.0s | train 0.6036 | train_acc 96.5% | val 0.6613 | val_acc 76.2% | lr 3.16e-05\n"
     ]
    },
    {
     "name": "stderr",
     "output_type": "stream",
     "text": [
      "                                                              \r"
     ]
    },
    {
     "name": "stdout",
     "output_type": "stream",
     "text": [
      "Epoch 17/20: 71.4s | train 0.5883 | train_acc 95.9% | val 0.6606 | val_acc 77.2% | lr 1.81e-05\n",
      "  ↳ saved new best\n"
     ]
    },
    {
     "name": "stderr",
     "output_type": "stream",
     "text": [
      "                                                              \r"
     ]
    },
    {
     "name": "stdout",
     "output_type": "stream",
     "text": [
      "Epoch 18/20: 70.2s | train 0.0575 | train_acc 99.6% | val 0.6616 | val_acc 77.4% | lr 8.13e-06\n",
      "  ↳ saved new best\n"
     ]
    },
    {
     "name": "stderr",
     "output_type": "stream",
     "text": [
      "                                                              \r"
     ]
    },
    {
     "name": "stdout",
     "output_type": "stream",
     "text": [
      "Epoch 19/20: 70.3s | train 0.0281 | train_acc 99.6% | val 0.6671 | val_acc 77.2% | lr 2.05e-06\n"
     ]
    },
    {
     "name": "stderr",
     "output_type": "stream",
     "text": [
      "                                                              \r"
     ]
    },
    {
     "name": "stdout",
     "output_type": "stream",
     "text": [
      "Epoch 20/20: 70.1s | train 0.0205 | train_acc 99.9% | val 0.6757 | val_acc 77.4% | lr 0.00e+00\n"
     ]
    },
    {
     "name": "stderr",
     "output_type": "stream",
     "text": [
      "C:\\Users\\micha\\AppData\\Local\\Temp\\ipykernel_57480\\52492352.py:6: FutureWarning: You are using `torch.load` with `weights_only=False` (the current default value), which uses the default pickle module implicitly. It is possible to construct malicious pickle data which will execute arbitrary code during unpickling (See https://github.com/pytorch/pytorch/blob/main/SECURITY.md#untrusted-models for more details). In a future release, the default value for `weights_only` will be flipped to `True`. This limits the functions that could be executed during unpickling. Arbitrary objects will no longer be allowed to be loaded via this mode unless they are explicitly allowlisted by the user via `torch.serialization.add_safe_globals`. We recommend you start setting `weights_only=True` for any use case where you don't have full control of the loaded file. Please open an issue on GitHub for any issues related to this experimental feature.\n",
      "  model.load_state_dict(torch.load(\"best_b5.pt\", map_location=device))\n"
     ]
    },
    {
     "name": "stdout",
     "output_type": "stream",
     "text": [
      "Phase 1 best val acc: 77.45%\n"
     ]
    },
    {
     "name": "stderr",
     "output_type": "stream",
     "text": [
      "                                                            \r"
     ]
    },
    {
     "name": "stdout",
     "output_type": "stream",
     "text": [
      "Epoch 1/5: 89.3s | train 0.0995 | train_acc 97.5% | val 0.6668 | val_acc 77.0% | lr 1.00e-04\n",
      "  ↳ saved new best\n"
     ]
    },
    {
     "name": "stderr",
     "output_type": "stream",
     "text": [
      "                                                            \r"
     ]
    },
    {
     "name": "stdout",
     "output_type": "stream",
     "text": [
      "Epoch 2/5: 70.4s | train 0.8961 | train_acc 81.7% | val 0.6675 | val_acc 77.2% | lr 8.54e-05\n",
      "  ↳ saved new best\n"
     ]
    },
    {
     "name": "stderr",
     "output_type": "stream",
     "text": [
      "                                                            \r"
     ]
    },
    {
     "name": "stdout",
     "output_type": "stream",
     "text": [
      "Epoch 3/5: 70.1s | train 0.7806 | train_acc 88.1% | val 0.6649 | val_acc 77.0% | lr 5.00e-05\n"
     ]
    },
    {
     "name": "stderr",
     "output_type": "stream",
     "text": [
      "                                                            \r"
     ]
    },
    {
     "name": "stdout",
     "output_type": "stream",
     "text": [
      "Epoch 4/5: 69.9s | train 0.6567 | train_acc 92.9% | val 0.6652 | val_acc 76.6% | lr 1.46e-05\n"
     ]
    },
    {
     "name": "stderr",
     "output_type": "stream",
     "text": [
      "                                                            \r"
     ]
    },
    {
     "name": "stdout",
     "output_type": "stream",
     "text": [
      "Epoch 5/5: 70.9s | train 0.6476 | train_acc 94.0% | val 0.6665 | val_acc 76.4% | lr 0.00e+00\n",
      "Phase 2 best val acc: 77.23%\n"
     ]
    },
    {
     "data": {
      "image/png": "[encoded data removed]",
      "text/plain": [
       "<Figure size 640x480 with 1 Axes>"
      ]
     },
     "metadata": {},
     "output_type": "display_data"
    },
    {
     "data": {
      "image/png": "[encoded data removed]",
      "text/plain": [
       "<Figure size 640x480 with 1 Axes>"
      ]
     },
     "metadata": {},
     "output_type": "display_data"
    }
   ],
   "source": [
    "lr1, bs, epochs1 = 3e-4, 16, 20\n",
    "best1, hist1 = train_val(model, lr=lr1, batch_size=bs, num_epochs=epochs1, return_history=True)\n",
    "print(f\"Phase 1 best val acc: {best1*100:.2f}%\")\n",
    "\n",
    "# -------- Phase 2: fine-tune from best checkpoint (lower LR) --------\n",
    "model.load_state_dict(torch.load(\"best_b5.pt\", map_location=device))\n",
    "best2, hist2 = train_val(model, lr=1e-4, batch_size=bs, num_epochs=5, return_history=True)\n",
    "print(f\"Phase 2 best val acc: {best2*100:.2f}%\")\n",
    "\n",
    "# Merge histories for plotting\n",
    "hist = {k: hist1[k] + hist2[k] for k in hist1}\n",
    "cut = len(hist1['train_loss'])\n",
    "\n",
    "import matplotlib.pyplot as plt\n",
    "\n",
    "epochs = range(1, len(hist['train_loss']) + 1)\n",
    "\n",
    "# Loss\n",
    "plt.figure()\n",
    "plt.plot(epochs, hist['train_loss'], label='Train loss')\n",
    "plt.plot(epochs, hist['val_loss'],   label='Val loss')\n",
    "plt.axvline(cut, linestyle='--', label='fine-tune start')\n",
    "plt.xlabel('Epoch'); plt.ylabel('Loss'); plt.title('Loss vs Epoch')\n",
    "plt.legend(); plt.grid(True)\n",
    "plt.show()\n",
    "\n",
    "# Accuracy (percent)\n",
    "plt.figure()\n",
    "plt.plot(epochs, hist['train_acc'], label='Train acc (%)')\n",
    "plt.plot(epochs, hist['val_acc'],   label='Val acc (%)')\n",
    "plt.axvline(cut, linestyle='--', label='fine-tune start')\n",
    "plt.xlabel('Epoch'); plt.ylabel('Accuracy (%)'); plt.title('Accuracy vs Epoch')\n",
    "plt.legend(); plt.grid(True)\n",
    "plt.show()\n"
   ]
  },
  {
   "cell_type": "code",
   "execution_count": 15,
   "id": "56eb43a3",
   "metadata": {},
   "outputs": [],
   "source": [
    "# Test dataset\n",
    "\n",
    "test_dataset = ImageFolder(root='data/test', transform=val_tfms)\n",
    "test_loader = DataLoader(test_dataset, batch_size=16, shuffle=False, num_workers=4)"
   ]
  },
  {
   "cell_type": "code",
   "execution_count": 17,
   "id": "00835053",
   "metadata": {},
   "outputs": [
    {
     "name": "stderr",
     "output_type": "stream",
     "text": [
      "C:\\Users\\micha\\AppData\\Local\\Temp\\ipykernel_57480\\2876720458.py:3: FutureWarning: You are using `torch.load` with `weights_only=False` (the current default value), which uses the default pickle module implicitly. It is possible to construct malicious pickle data which will execute arbitrary code during unpickling (See https://github.com/pytorch/pytorch/blob/main/SECURITY.md#untrusted-models for more details). In a future release, the default value for `weights_only` will be flipped to `True`. This limits the functions that could be executed during unpickling. Arbitrary objects will no longer be allowed to be loaded via this mode unless they are explicitly allowlisted by the user via `torch.serialization.add_safe_globals`. We recommend you start setting `weights_only=True` for any use case where you don't have full control of the loaded file. Please open an issue on GitHub for any issues related to this experimental feature.\n",
      "  model.load_state_dict(torch.load(\"best_b5.pt\", map_location=device))\n"
     ]
    },
    {
     "name": "stdout",
     "output_type": "stream",
     "text": [
      "Results from Unseen Data: \n",
      "Test Loss: 0.6579 | Test Accuracy: 76.63%\n"
     ]
    }
   ],
   "source": [
    "#Testing Accuracy\n",
    "\n",
    "model.load_state_dict(torch.load(\"best_b5.pt\", map_location=device))\n",
    "model.eval()\n",
    "\n",
    "test_loss = 0.0; correct = 0; total = 0\n",
    "all_preds, all_labels = [], []\n",
    "\n",
    "with torch.no_grad(), torch.amp.autocast('cuda', enabled=use_amp):\n",
    "    for images, labels in test_loader:\n",
    "        images = images.to(device, non_blocking=True)\n",
    "        labels = labels.to(device, non_blocking=True)\n",
    "        if device.type == \"cuda\":\n",
    "            images = images.to(memory_format=torch.channels_last)\n",
    "\n",
    "        outputs = model(images)\n",
    "        test_loss += F.cross_entropy(outputs, labels).item() * images.size(0)\n",
    "\n",
    "        preds = outputs.argmax(1)\n",
    "        correct += (preds == labels).sum().item()\n",
    "        total   += labels.size(0)\n",
    "\n",
    "        all_preds.append(preds.cpu())\n",
    "        all_labels.append(labels.cpu())\n",
    "\n",
    "import torch\n",
    "all_preds  = torch.cat(all_preds).numpy()\n",
    "all_labels = torch.cat(all_labels).numpy()\n",
    "\n",
    "avg_loss = test_loss / max(total, 1)\n",
    "acc = 100.0 * correct / max(total, 1)\n",
    "print(\"Results from Unseen Data: \")\n",
    "print(f\"Test Loss: {avg_loss:.4f} | Test Accuracy: {acc:.2f}%\")"
   ]
  },
  {
   "cell_type": "code",
   "execution_count": null,
   "id": "2fdcef79",
   "metadata": {},
   "outputs": [
    {
     "name": "stderr",
     "output_type": "stream",
     "text": [
      "C:\\Users\\micha\\AppData\\Local\\Temp\\ipykernel_57480\\3768838441.py:42: FutureWarning: You are using `torch.load` with `weights_only=False` (the current default value), which uses the default pickle module implicitly. It is possible to construct malicious pickle data which will execute arbitrary code during unpickling (See https://github.com/pytorch/pytorch/blob/main/SECURITY.md#untrusted-models for more details). In a future release, the default value for `weights_only` will be flipped to `True`. This limits the functions that could be executed during unpickling. Arbitrary objects will no longer be allowed to be loaded via this mode unless they are explicitly allowlisted by the user via `torch.serialization.add_safe_globals`. We recommend you start setting `weights_only=True` for any use case where you don't have full control of the loaded file. Please open an issue on GitHub for any issues related to this experimental feature.\n",
      "  state = torch.load(\"best_b5.pt\", map_location=device)\n"
     ]
    }
   ],
   "source": [
    "# PREDICTION FUNCTION\n",
    "import os, json, torch, timm\n",
    "from PIL import Image\n",
    "from torchvision import transforms\n",
    "from torchvision.datasets import ImageFolder\n",
    "\n",
    "device  = torch.device(\"cuda\" if torch.cuda.is_available() else \"cpu\")\n",
    "use_amp = (device.type == \"cuda\") if \"use_amp\" not in globals() else use_amp\n",
    "\n",
    "# Use existing test transforms\n",
    "if \"val_tfms\" in globals():\n",
    "    infer_tfms = val_tfms\n",
    "else:\n",
    "    IMSIZE = globals().get(\"IMSIZE\", 260)\n",
    "    mean, std = (0.485, 0.456, 0.406), (0.229, 0.224, 0.225)\n",
    "    infer_tfms = transforms.Compose([\n",
    "        transforms.Resize(int(IMSIZE*1.1)),\n",
    "        transforms.CenterCrop(IMSIZE),\n",
    "        transforms.ToTensor(),\n",
    "        transforms.Normalize(mean, std),\n",
    "    ])\n",
    "\n",
    "# Set class names\n",
    "CLASSES_PATH = \"class_names.json\"\n",
    "if os.path.exists(CLASSES_PATH):\n",
    "    class_names = json.load(open(CLASSES_PATH, \"r\"))\n",
    "else:\n",
    "    _tmp = ImageFolder(\"data/train\", transform=infer_tfms)\n",
    "    class_names = _tmp.classes\n",
    "    json.dump(class_names, open(CLASSES_PATH, \"w\"))\n",
    "num_classes = len(class_names) if \"num_countries\" not in globals() else num_countries\n",
    "\n",
    "# Load model data\n",
    "if \"infer_model\" not in globals():\n",
    "    infer_model = timm.create_model(\n",
    "        \"efficientnet_b5\",\n",
    "        pretrained=False,\n",
    "        num_classes=num_classes,\n",
    "        drop_rate=0.3,\n",
    "        drop_path_rate=0.2,\n",
    "    )\n",
    "    state = torch.load(\"best_b5.pt\", map_location=device)\n",
    "    infer_model.load_state_dict(state, strict=True)\n",
    "    infer_model = infer_model.to(device, memory_format=torch.channels_last) if device.type==\"cuda\" else infer_model.to(device)\n",
    "    infer_model.eval()\n",
    "\n",
    "@torch.no_grad()\n",
    "def predict_image(path: str, topk: int = 5, tta: bool = True):\n",
    "    img = Image.open(path).convert(\"RGB\")       #prepare image for model passthrough\n",
    "    x = infer_tfms(img).unsqueeze(0).to(device, non_blocking=True)\n",
    "    if device.type == \"cuda\":\n",
    "        x = x.to(memory_format=torch.channels_last)\n",
    "    with torch.amp.autocast(\"cuda\", enabled=use_amp):\n",
    "        logits = infer_model(x)\n",
    "        if tta:\n",
    "            logits = (logits + infer_model(torch.flip(x, dims=[3]))) / 2\n",
    "        probs = torch.softmax(logits, dim=1).squeeze(0)\n",
    "        k = min(topk, len(class_names))\n",
    "        pvals, idxs = torch.topk(probs, k=k)\n",
    "    results = [(class_names[i.item()], float(p.item())) for i, p in zip(idxs, pvals)]\n",
    "    print(\"Top predictions:\")\n",
    "    for r, (name, p) in enumerate(results, 1):\n",
    "        print(f\"{r}. {name} — {p*100:.1f}%\")\n",
    "    return results[0][0], results[0][1], results\n",
    "\n",
    "\n"
   ]
  },
  {
   "cell_type": "code",
   "execution_count": 19,
   "id": "2f610cbd",
   "metadata": {},
   "outputs": [
    {
     "name": "stdout",
     "output_type": "stream",
     "text": [
      "Top predictions:\n",
      "1. France — 37.8%\n",
      "2. Italy — 29.1%\n",
      "3. Greece — 18.1%\n",
      "4. Japan — 7.9%\n",
      "5. Mexico — 7.1%\n"
     ]
    },
    {
     "data": {
      "text/plain": [
       "('France',\n",
       " 0.37803226709365845,\n",
       " [('France', 0.37803226709365845),\n",
       "  ('Italy', 0.2906978130340576),\n",
       "  ('Greece', 0.1811605989933014),\n",
       "  ('Japan', 0.07935602962970734),\n",
       "  ('Mexico', 0.07075323909521103)])"
      ]
     },
     "execution_count": 19,
     "metadata": {},
     "output_type": "execute_result"
    }
   ],
   "source": [
    "predict_image(\"test.jpg\", topk=5, tta=True)"
   ]
  }
 ],
 "metadata": {
  "kernelspec": {
   "display_name": ".venv",
   "language": "python",
   "name": "python3"
  },
  "language_info": {
   "codemirror_mode": {
    "name": "ipython",
    "version": 3
   },
   "file_extension": ".py",
   "mimetype": "text/x-python",
   "name": "python",
   "nbconvert_exporter": "python",
   "pygments_lexer": "ipython3",
   "version": "3.12.9"
  }
 },
 "nbformat": 4,
 "nbformat_minor": 5
}
